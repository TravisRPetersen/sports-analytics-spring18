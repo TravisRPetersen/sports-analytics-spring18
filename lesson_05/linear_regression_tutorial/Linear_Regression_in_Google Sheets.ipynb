{
 "cells": [
  {
   "cell_type": "markdown",
   "id": "cc641953",
   "metadata": {},
   "source": [
    "## Fitting Linear Regression\n",
    "Make a copy of the file\n",
    "\n",
    "https://docs.google.com/spreadsheets/d/1C-CUL_g5a3y7DhTQvgVcueQDcit1sw7Awpi2b00R-oA/edit?usp=sharing\n",
    "\n"
   ]
  },
  {
   "cell_type": "markdown",
   "id": "b2f968e7",
   "metadata": {},
   "source": [
    "## Installing XLMiner Analysis ToolPak\n",
    "Navigate to Extensions > Add-ons > Get Add-ons > Search for XLMiner Analysis Toolpak\n",
    "![title](xlminer_tookpak.png)"
   ]
  },
  {
   "cell_type": "markdown",
   "id": "ecdc0a4f",
   "metadata": {},
   "source": [
    "### You should now see XLMiner listed in the list of extensions\n",
    "![title](open_xlminer.png)"
   ]
  },
  {
   "cell_type": "markdown",
   "id": "8d683da6",
   "metadata": {},
   "source": [
    "### Open XLMiner and set ranges for regression\n",
    "![title](simple_regression.png)"
   ]
  },
  {
   "cell_type": "markdown",
   "id": "26d18735",
   "metadata": {},
   "source": [
    "### Observe the output in the cells denoted in Output Range (G2 in this example)\n",
    "![title](observe_simple_output.png)"
   ]
  },
  {
   "cell_type": "markdown",
   "id": "57d97824",
   "metadata": {},
   "source": [
    "### Multiple variables can be included by changing the X Range\n",
    "![title](multiple_regression.png)"
   ]
  },
  {
   "cell_type": "markdown",
   "id": "ca86a61c",
   "metadata": {},
   "source": [
    "## Examine an example Google Sheets file here:\n",
    "\n",
    "https://docs.google.com/spreadsheets/d/1QIWgJy5nOd3CGJECQZxOoLXXlFNg6xOO4JbKPO4fZXQ/edit?usp=sharing\n"
   ]
  },
  {
   "cell_type": "code",
   "execution_count": null,
   "id": "813dccc7",
   "metadata": {},
   "outputs": [],
   "source": []
  }
 ],
 "metadata": {
  "kernelspec": {
   "display_name": "Python 3 (ipykernel)",
   "language": "python",
   "name": "python3"
  },
  "language_info": {
   "codemirror_mode": {
    "name": "ipython",
    "version": 3
   },
   "file_extension": ".py",
   "mimetype": "text/x-python",
   "name": "python",
   "nbconvert_exporter": "python",
   "pygments_lexer": "ipython3",
   "version": "3.8.2"
  }
 },
 "nbformat": 4,
 "nbformat_minor": 5
}
